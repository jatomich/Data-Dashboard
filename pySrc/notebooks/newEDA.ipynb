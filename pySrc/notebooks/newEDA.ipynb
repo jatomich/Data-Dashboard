{
 "cells": [
  {
   "cell_type": "markdown",
   "metadata": {},
   "source": [
    "<div style=\"display: flex;\">\n",
    "<img src=\"https://conocedores.com/wp-content/uploads/2016/06/netflixn.jpg\" alt=\"Netflix logo\" width=500 />\n",
    "<img src=\"https://qubefilm.com/wp-content/uploads/2021/03/imdb-logo.png\" alt=\"IMDb logo\" width=500 />\n",
    "</div>"
   ]
  },
  {
   "cell_type": "markdown",
   "metadata": {},
   "source": [
    "<h1 style=\"font-size: 80px; font-weight: bold; text-align: center;\">PRELIMINARY EDA</h1>"
   ]
  },
  {
   "cell_type": "code",
   "execution_count": 1,
   "metadata": {},
   "outputs": [
    {
     "name": "stdout",
     "output_type": "stream",
     "text": [
      "<class 'pandas.core.frame.DataFrame'>\n",
      "RangeIndex: 1858 entries, 0 to 1857\n",
      "Data columns (total 20 columns):\n",
      " #   Column             Non-Null Count  Dtype         \n",
      "---  ------             --------------  -----         \n",
      " 0   tconst             1858 non-null   object        \n",
      " 1   primaryTitle       1858 non-null   object        \n",
      " 2   originalTitle      1858 non-null   object        \n",
      " 3   startYear          1858 non-null   int32         \n",
      " 4   runtimeMinutes     1858 non-null   int32         \n",
      " 5   genres             1858 non-null   object        \n",
      " 6   averageRating      1858 non-null   float64       \n",
      " 7   numVotes           1858 non-null   int32         \n",
      " 8   nfShowId           1858 non-null   object        \n",
      " 9   type               1858 non-null   object        \n",
      " 10  title              1858 non-null   object        \n",
      " 11  director           1804 non-null   object        \n",
      " 12  cast               1770 non-null   object        \n",
      " 13  country            1776 non-null   object        \n",
      " 14  dateAdded          1858 non-null   datetime64[ns]\n",
      " 15  rating             1858 non-null   object        \n",
      " 16  listedIn           1858 non-null   object        \n",
      " 17  description        1858 non-null   object        \n",
      " 18  availableGlobally  1858 non-null   object        \n",
      " 19  hoursViewed        1858 non-null   int32         \n",
      "dtypes: datetime64[ns](1), float64(1), int32(4), object(14)\n",
      "memory usage: 2.1 MB\n"
     ]
    }
   ],
   "source": [
    "import pandas as pd\n",
    "\n",
    "# Load the data\n",
    "df = pd.read_excel(\n",
    "    io='../../data/FULLY_COMBINED_DATASET.xlsx',\n",
    "    sheet_name='FULLY_COMBINED_DATASET',\n",
    "    engine='openpyxl',\n",
    "    usecols=[\n",
    "        'tconst',\n",
    "        'primaryTitle',\n",
    "        'originalTitle',\n",
    "        'startYear',\n",
    "        'runtimeMinutes',\n",
    "        'genres',\n",
    "        'averageRating',\n",
    "        'numVotes',\n",
    "        'nfShowId',\n",
    "        'type',\n",
    "        'title',\n",
    "        'director',\n",
    "        'cast',\n",
    "        'country',\n",
    "        'dateAdded',\n",
    "        'rating',\n",
    "        'listedIn',\n",
    "        'description',\n",
    "        'availableGlobally',\n",
    "        'hoursViewed',\n",
    "    ]\n",
    ").drop_duplicates(\n",
    "    ignore_index=True\n",
    ").replace(\n",
    "    \"\\\\N\",\n",
    "    ''\n",
    ").astype({\n",
    "    'startYear': 'int32',\n",
    "    'runtimeMinutes': 'int32',\n",
    "    'averageRating': 'float64',\n",
    "    'numVotes': 'int32',\n",
    "    'dateAdded': 'datetime64[ns]',\n",
    "    'hoursViewed': 'int32',\n",
    "    })\n",
    "\n",
    "df.info(memory_usage='deep')"
   ]
  },
  {
   "cell_type": "code",
   "execution_count": null,
   "metadata": {},
   "outputs": [],
   "source": [
    "df.describe(include='all').T"
   ]
  },
  {
   "cell_type": "markdown",
   "metadata": {},
   "source": [
    "# Let's look at some frequency and density graphs"
   ]
  },
  {
   "cell_type": "code",
   "execution_count": null,
   "metadata": {},
   "outputs": [],
   "source": [
    "import matplotlib.pyplot as plt\n",
    "import seaborn as sns\n",
    "\n",
    "\n",
    "# Create a pairplot\n",
    "sns.pairplot(\n",
    "    data=df,\n",
    "    kind='scatter',\n",
    "    hue='availableGlobally',\n",
    "    diag_kind='hist',\n",
    "    plot_kws={\n",
    "        'alpha': 0.8,\n",
    "        'linewidth': 3\n",
    "    },\n",
    "    corner=True,\n",
    "    palette=sns.color_palette(\n",
    "        'husl',\n",
    "        n_colors=2\n",
    "        )\n",
    "    ).map_lower(sns.kdeplot, levels=3, color=\".2\")\n",
    "\n",
    "plt.show();"
   ]
  },
  {
   "cell_type": "code",
   "execution_count": null,
   "metadata": {},
   "outputs": [],
   "source": [
    "gS = df.listedIn.value_counts().head(5).index.to_list()\n",
    "splot_df = df.loc[df.listedIn.isin(gS), :].astype({'listedIn': 'object'}).astype({'listedIn': 'category'})\n",
    "list(splot_df.listedIn.cat.categories)"
   ]
  },
  {
   "cell_type": "code",
   "execution_count": null,
   "metadata": {},
   "outputs": [],
   "source": [
    "sns.pairplot(splot_df,\n",
    "             hue='listedIn',\n",
    "             kind='scatter',\n",
    "             plot_kws={'alpha': 0.5},\n",
    "             palette=sns.color_palette('husl', n_colors=5)\n",
    "             ).map_lower(sns.kdeplot, levels=3, color=\".2\")\n",
    "\n",
    "plt.show();"
   ]
  },
  {
   "cell_type": "markdown",
   "metadata": {},
   "source": [
    "## Let's create separate subsets for movie and tv content, respectively."
   ]
  },
  {
   "cell_type": "code",
   "execution_count": null,
   "metadata": {},
   "outputs": [],
   "source": [
    "# Create copies of the dataframe for each type\n",
    "tv_df = df[df['type'] == 'tv show'].copy()\n",
    "mv_df = df[df['type'] == 'movie'].copy()"
   ]
  },
  {
   "cell_type": "markdown",
   "metadata": {},
   "source": [
    "## We'll run pairplot again using just the tv data."
   ]
  },
  {
   "cell_type": "code",
   "execution_count": null,
   "metadata": {},
   "outputs": [],
   "source": [
    "# Create a pairplot\n",
    "sns.pairplot(\n",
    "    data=tv_df.loc[\n",
    "        (\n",
    "            tv_df['runtimeMinutes'] >= 40\n",
    "        ) & (\n",
    "            tv_df['runtimeMinutes'] <= 180\n",
    "        ) & (\n",
    "            tv_df['numVotes'] <= 1000000\n",
    "        ) & (\n",
    "            tv_df['startYear'] >= 2010\n",
    "        ) & (\n",
    "            tv_df['numVotes'] >= 1940\n",
    "        )\n",
    "    ],\n",
    "    kind='scatter',\n",
    "    hue='availableGlobally',\n",
    "    diag_kind='hist',\n",
    "    plot_kws={\n",
    "        'alpha': 0.8,\n",
    "        'linewidth': 3\n",
    "    },\n",
    "    corner=True,\n",
    "    palette=sns.color_palette(\n",
    "        'husl',\n",
    "        n_colors=2\n",
    "        )\n",
    "    ).map_lower(sns.kdeplot, levels=3, color=\".2\")\n",
    "\n",
    "plt.show();"
   ]
  },
  {
   "cell_type": "markdown",
   "metadata": {},
   "source": [
    "## Now just films"
   ]
  },
  {
   "cell_type": "code",
   "execution_count": null,
   "metadata": {},
   "outputs": [],
   "source": [
    "# Create a pairplot\n",
    "sns.pairplot(\n",
    "    data=mv_df.loc[\n",
    "        (\n",
    "            mv_df['runtimeMinutes'] >= 40\n",
    "        ) & (\n",
    "            mv_df['runtimeMinutes'] <= 180\n",
    "        ) & (\n",
    "            mv_df['numVotes'] <= 1000000\n",
    "        ) & (\n",
    "            mv_df['startYear'] >= 2010\n",
    "        ) & (\n",
    "            mv_df['numVotes'] >= 1940\n",
    "        )\n",
    "    ],\n",
    "    kind='scatter',\n",
    "    hue='availableGlobally',\n",
    "    diag_kind='hist',\n",
    "    plot_kws={\n",
    "        'alpha': 0.8,\n",
    "        'linewidth': 3\n",
    "    },\n",
    "    corner=True,\n",
    "    palette=sns.color_palette(\n",
    "        'husl',\n",
    "        n_colors=2\n",
    "        )\n",
    "    ).map_lower(sns.kdeplot, levels=3, color=\".2\")\n",
    "\n",
    "plt.show();"
   ]
  },
  {
   "cell_type": "markdown",
   "metadata": {},
   "source": [
    "## Hued on 'country'"
   ]
  },
  {
   "cell_type": "code",
   "execution_count": null,
   "metadata": {},
   "outputs": [],
   "source": [
    "# create a temporary dataframe with the top 10 countries\n",
    "tmpdf = df.loc[\n",
    "    df['country'].isin(\n",
    "        df.country.value_counts().head(5).index\n",
    "    ),\n",
    "    :\n",
    "].astype({\n",
    "    'country': 'object'\n",
    "}).astype({\n",
    "    'country': 'category'\n",
    "})\n",
    "\n",
    "\n",
    "# Create a pairplot\n",
    "sns.pairplot(\n",
    "        data=tmpdf.loc[\n",
    "        (\n",
    "            df['runtimeMinutes'] >= 40\n",
    "        ) & (\n",
    "            df['runtimeMinutes'] <= 180\n",
    "        ) & (\n",
    "            df['numVotes'] <= 1000000\n",
    "        ) & (\n",
    "            df['startYear'] >= 2010\n",
    "        ) & (\n",
    "            df['numVotes'] >= 1940\n",
    "        )\n",
    "    ],\n",
    "    kind='scatter',\n",
    "    hue='country',\n",
    "    diag_kind='hist',\n",
    "    plot_kws={\n",
    "        'alpha': 0.8,\n",
    "        'linewidth': 3\n",
    "    },\n",
    "    corner=True,\n",
    "    palette=sns.color_palette(\n",
    "        'husl',\n",
    "        n_colors=5\n",
    "        )\n",
    "    ).map_lower(sns.kdeplot, levels=3, color=\".2\")\n",
    "\n",
    "plt.show();"
   ]
  },
  {
   "cell_type": "code",
   "execution_count": null,
   "metadata": {},
   "outputs": [],
   "source": [
    "horror_tv_df = tv_df[tv_df['listedIn'].str.contains('horror',\n",
    "                                                    na=False,\n",
    "                                                    case=False)].copy()\n",
    "horror_tv_df.index.size"
   ]
  },
  {
   "cell_type": "code",
   "execution_count": null,
   "metadata": {},
   "outputs": [],
   "source": [
    "horror_mv_df = mv_df[mv_df['listedIn'].str.contains('horror',\n",
    "                                                    na=False,\n",
    "                                                    case=False)].copy()\n",
    "horror_mv_df.index.size"
   ]
  },
  {
   "cell_type": "markdown",
   "metadata": {},
   "source": [
    "# Looking at just the movies, how stable is the 'availableGlobally' phenomenon?"
   ]
  },
  {
   "cell_type": "code",
   "execution_count": null,
   "metadata": {},
   "outputs": [],
   "source": [
    "mv_df.plot(kind='scatter',\n",
    "        x='numVotes',\n",
    "        y='averageRating',\n",
    "        alpha=0.8,\n",
    "        c='availableGlobally',\n",
    "        cmap='viridis',\n",
    "        figsize=(12, 8),\n",
    "        title='Number of Votes vs. Average Rating'\n",
    ")\n",
    "\n",
    "plt.show();"
   ]
  },
  {
   "cell_type": "markdown",
   "metadata": {},
   "source": [
    "# And for only TV content?"
   ]
  },
  {
   "cell_type": "code",
   "execution_count": null,
   "metadata": {},
   "outputs": [],
   "source": [
    "tv_df.plot(kind='scatter',\n",
    "        x='numVotes',\n",
    "        y='averageRating',\n",
    "        alpha=0.8,\n",
    "        c='availableGlobally',\n",
    "        cmap='viridis',\n",
    "        figsize=(12, 8),\n",
    "        title='Number of Votes vs. Average Rating'\n",
    ")\n",
    "\n",
    "plt.show();"
   ]
  },
  {
   "cell_type": "markdown",
   "metadata": {},
   "source": [
    "<hr />"
   ]
  },
  {
   "cell_type": "markdown",
   "metadata": {},
   "source": [
    "<hr />"
   ]
  },
  {
   "cell_type": "markdown",
   "metadata": {},
   "source": [
    "# We'll distill the 'listedIn' column into the following macro-categories: _action_, _comedy_, _documentary_, _drama_, _family_, _horror_, _romance_.  There will initially be overlap amongst the subsets, but this will be addressed, as needed, in an ongoing fashion."
   ]
  },
  {
   "cell_type": "code",
   "execution_count": null,
   "metadata": {},
   "outputs": [],
   "source": [
    "action_df = df.loc[df['listedIn'].str.contains('action &'), :].copy().astype({'listedIn': 'object'})\n",
    "action_df.loc[:, 'listedIn'] = 'action'\n",
    "\n",
    "comedy_df = df.loc[df['listedIn'].str.contains('comedies'), :].copy().astype({'listedIn': 'object'})\n",
    "comedy_df.loc[:, 'listedIn'] = 'comedy'\n",
    "\n",
    "documentary_df = df.loc[df['listedIn'].str.contains('documentaries'), :].copy().astype({'listedIn': 'object'})\n",
    "documentary_df.loc[:, 'listedIn'] = 'documentary'\n",
    "\n",
    "drama_df = df.loc[df['listedIn'].str.contains('drama'), :].copy().astype({'listedIn': 'object'})\n",
    "drama_df.loc[:, 'listedIn'] = 'drama'\n",
    "\n",
    "family_df = df.loc[df['listedIn'].str.contains('children'), :].copy().astype({'listedIn': 'object'})\n",
    "family_df.loc[:, 'listedIn'] = 'family'\n",
    "\n",
    "horror_df = df.loc[df['listedIn'].str.contains('horror'), :].copy().astype({'listedIn': 'object'})\n",
    "horror_df.loc[:, 'listedIn'] = 'horror'\n",
    "\n",
    "romance_df = df.loc[df['listedIn'].str.contains('romance'), :].copy().astype({'listedIn': 'object'})\n",
    "romance_df.loc[:, 'listedIn'] = 'romance'\n",
    "\n",
    "macro_df = pd.concat([\n",
    "    action_df,\n",
    "    comedy_df,\n",
    "    documentary_df,\n",
    "    drama_df,\n",
    "    family_df,\n",
    "    horror_df,\n",
    "    romance_df\n",
    "]).astype({'listedIn': 'category'})\n",
    "\n",
    "macro_df.sample(5)"
   ]
  },
  {
   "cell_type": "code",
   "execution_count": null,
   "metadata": {},
   "outputs": [],
   "source": [
    "macro_df[macro_df['listedIn'] == 'drama']"
   ]
  },
  {
   "cell_type": "markdown",
   "metadata": {},
   "source": [
    "# Let's see if this broad brush approach yields any useful insights."
   ]
  },
  {
   "cell_type": "code",
   "execution_count": null,
   "metadata": {},
   "outputs": [],
   "source": [
    "# Create a pairplot\n",
    "sns.pairplot(\n",
    "    data=macro_df.loc[\n",
    "        (\n",
    "            macro_df['runtimeMinutes'] >= 40\n",
    "        ) & (\n",
    "            macro_df['runtimeMinutes'] <= 180\n",
    "        ) & (\n",
    "            macro_df['numVotes'] <= 1000000\n",
    "        ) & (\n",
    "            macro_df['startYear'] >= 2010\n",
    "        ) & (\n",
    "            macro_df['numVotes'] >= 1940\n",
    "        )\n",
    "    ],\n",
    "    kind='scatter',\n",
    "    hue='listedIn',\n",
    "    diag_kind='hist',\n",
    "    plot_kws={\n",
    "        'alpha': 0.5,\n",
    "        'linewidth': 4\n",
    "    },\n",
    "    corner=True,\n",
    "    palette=sns.color_palette(\n",
    "        'husl',\n",
    "        n_colors=6\n",
    "        )\n",
    "    ).map_lower(sns.kdeplot, levels=3, color=\".2\")\n",
    "\n",
    "plt.show();"
   ]
  },
  {
   "cell_type": "markdown",
   "metadata": {},
   "source": [
    "# Let's increase the contrast between genres by removing duplicates among categories.  This is a first, rough pass, and should be refined based on initial examination."
   ]
  },
  {
   "cell_type": "code",
   "execution_count": null,
   "metadata": {},
   "outputs": [],
   "source": [
    "dropped = macro_df.drop('listedIn', axis=1).drop_duplicates()\n",
    "\n",
    "dropped_df = pd.merge(\n",
    "    left=(l := dropped.iloc[:, :8]),\n",
    "    right=(r := macro_df.iloc[:, 8:]),\n",
    "    left_on=l.index,\n",
    "    right_on=r.index\n",
    ").drop_duplicates(\n",
    "    subset=[\n",
    "        'title'\n",
    "    ],\n",
    "    keep=False,\n",
    "    ignore_index=True\n",
    ").drop('key_0',\n",
    "       axis=1\n",
    "      )\n",
    "\n",
    "dropped_df.info(\n",
    "    memory_usage='deep'\n",
    ")"
   ]
  },
  {
   "cell_type": "code",
   "execution_count": null,
   "metadata": {},
   "outputs": [],
   "source": [
    "dropped_df.primaryTitle.duplicated().sum()"
   ]
  },
  {
   "cell_type": "markdown",
   "metadata": {},
   "source": [
    "## Pairplots"
   ]
  },
  {
   "cell_type": "markdown",
   "metadata": {},
   "source": [
    "### hue = 'type'"
   ]
  },
  {
   "cell_type": "code",
   "execution_count": null,
   "metadata": {},
   "outputs": [],
   "source": [
    "# Create a pairplot\n",
    "sns.pairplot(\n",
    "    data=dropped_df.loc[\n",
    "        (\n",
    "            dropped_df['runtimeMinutes'] >= 40\n",
    "        ) & (\n",
    "            dropped_df['runtimeMinutes'] <= 180\n",
    "        ) & (\n",
    "            dropped_df['numVotes'] <= 1000000\n",
    "        ) & (\n",
    "            dropped_df['startYear'] >= 2010\n",
    "        ) & (\n",
    "            dropped_df['numVotes'] >= 1940\n",
    "        )\n",
    "    ],\n",
    "    kind='scatter',\n",
    "    hue='type',\n",
    "    diag_kind='hist',\n",
    "    plot_kws={\n",
    "        'alpha': 0.5,\n",
    "        'linewidth': 4\n",
    "    },\n",
    "    corner=True,\n",
    "    palette=sns.color_palette(\n",
    "        'husl',\n",
    "        n_colors=2\n",
    "        )\n",
    "    ).map_lower(sns.kdeplot, levels=3, color=\".2\")\n",
    "\n",
    "plt.show();"
   ]
  },
  {
   "cell_type": "markdown",
   "metadata": {},
   "source": [
    "### hue = 'availableGlobally'"
   ]
  },
  {
   "cell_type": "code",
   "execution_count": null,
   "metadata": {},
   "outputs": [],
   "source": [
    "# Create a pairplot\n",
    "sns.pairplot(\n",
    "    data=dropped_df.loc[\n",
    "        (\n",
    "            dropped_df['runtimeMinutes'] >= 40\n",
    "        ) & (\n",
    "            dropped_df['runtimeMinutes'] <= 180\n",
    "        ) & (\n",
    "            dropped_df['numVotes'] <= 1000000\n",
    "        ) & (\n",
    "            dropped_df['startYear'] >= 2010\n",
    "        ) & (\n",
    "            dropped_df['numVotes'] >= 1940\n",
    "        )\n",
    "    ],\n",
    "    kind='scatter',\n",
    "    hue='availableGlobally',\n",
    "    diag_kind='hist',\n",
    "    plot_kws={\n",
    "        'alpha': 0.5,\n",
    "        'linewidth': 4\n",
    "    },\n",
    "    corner=True,\n",
    "    palette=sns.color_palette(\n",
    "        'husl',\n",
    "        n_colors=2\n",
    "        )\n",
    "    ).map_lower(sns.kdeplot, levels=3, color=\".2\")\n",
    "\n",
    "plt.show();"
   ]
  },
  {
   "cell_type": "markdown",
   "metadata": {},
   "source": [
    "### hue = 'listedIn'"
   ]
  },
  {
   "cell_type": "code",
   "execution_count": null,
   "metadata": {},
   "outputs": [],
   "source": [
    "# Create a pairplot\n",
    "sns.pairplot(\n",
    "    data=dropped_df.loc[\n",
    "        (\n",
    "            dropped_df['runtimeMinutes'] >= 40\n",
    "        ) & (\n",
    "            dropped_df['runtimeMinutes'] <= 180\n",
    "        ) & (\n",
    "            dropped_df['numVotes'] <= 1000000\n",
    "        ) & (\n",
    "            dropped_df['startYear'] >= 2010\n",
    "        ) & (\n",
    "            dropped_df['numVotes'] >= 1940\n",
    "        )\n",
    "    ],\n",
    "    kind='scatter',\n",
    "    hue='listedIn',\n",
    "    diag_kind='hist',\n",
    "    plot_kws={\n",
    "        'alpha': 0.5,\n",
    "        'linewidth': 4\n",
    "    },\n",
    "    corner=True,\n",
    "    palette=sns.color_palette(\n",
    "        'husl',\n",
    "        n_colors=6\n",
    "        )\n",
    "    ).map_lower(sns.kdeplot, levels=3, color=\".2\")\n",
    "\n",
    "plt.show();"
   ]
  },
  {
   "cell_type": "markdown",
   "metadata": {},
   "source": [
    "# Preliminary Zoom on Dense Clusters"
   ]
  },
  {
   "cell_type": "markdown",
   "metadata": {},
   "source": [
    "## Movie Titles"
   ]
  },
  {
   "cell_type": "code",
   "execution_count": null,
   "metadata": {},
   "outputs": [],
   "source": [
    "# Create a pairplot\n",
    "sns.pairplot(\n",
    "    data=dropped_df.loc[(\n",
    "        dropped_df['type'] == 'movie'\n",
    "    ) & (\n",
    "        dropped_df['averageRating'] >= 5\n",
    "    ) & (\n",
    "        dropped_df['runtimeMinutes'] >= 80\n",
    "    ) & (\n",
    "        dropped_df['runtimeMinutes'] <= 150\n",
    "    ) & (\n",
    "        dropped_df['hoursViewed'] < 2000000\n",
    "    ) & (\n",
    "        dropped_df['hoursViewed'] > 0\n",
    "    ) & (\n",
    "        dropped_df['numVotes'] > 0\n",
    "    ) & (\n",
    "        dropped_df['numVotes'] <= 15000\n",
    "    ) & (\n",
    "        dropped_df['startYear'] >= 2020\n",
    "    ), :].drop(\n",
    "        labels='type',\n",
    "        axis=1\n",
    "    ),\n",
    "    kind='scatter',\n",
    "    hue='listedIn',\n",
    "    diag_kind='hist',\n",
    "    plot_kws={\n",
    "        'alpha': 0.5,\n",
    "        'linewidth': 4,\n",
    "        },\n",
    "    corner=True,\n",
    "    palette=sns.color_palette(\n",
    "        'husl',\n",
    "        n_colors=6\n",
    "        )\n",
    "    ).map_lower(\n",
    "        sns.kdeplot,\n",
    "        levels=3,\n",
    "        color=\".2\",\n",
    "        warn_singular=False\n",
    "    )\n",
    "\n",
    "plt.show();"
   ]
  },
  {
   "cell_type": "markdown",
   "metadata": {},
   "source": [
    "## TV Titles"
   ]
  },
  {
   "cell_type": "code",
   "execution_count": null,
   "metadata": {},
   "outputs": [],
   "source": [
    "# Create a pairplot\n",
    "sns.pairplot(\n",
    "    data=dropped_df.astype({'type': 'object'})[dropped_df['type'] == 'tv show'].loc[\n",
    "    (\n",
    "        dropped_df['hoursViewed'] < 8000000\n",
    "    ) & (\n",
    "        dropped_df['hoursViewed'] > 0\n",
    "    ) & (\n",
    "        dropped_df['numVotes'] > 0\n",
    "    ) & (\n",
    "        dropped_df['numVotes'] <= 50000\n",
    "    ), :].drop(\n",
    "        labels='type',\n",
    "        axis=1\n",
    "    ),\n",
    "    kind='scatter',\n",
    "    hue='listedIn',\n",
    "    diag_kind='hist',\n",
    "    plot_kws={\n",
    "        'alpha': 0.5,\n",
    "        'linewidth': 4,\n",
    "        },\n",
    "    corner=True,\n",
    "    palette=sns.color_palette(\n",
    "        'husl',\n",
    "        n_colors=6\n",
    "        )\n",
    "    ).map_lower(\n",
    "        sns.kdeplot,\n",
    "        levels=3,\n",
    "        color=\".2\",\n",
    "        warn_singular=False\n",
    "    )\n",
    "\n",
    "plt.show();"
   ]
  },
  {
   "cell_type": "markdown",
   "metadata": {},
   "source": [
    "<h1>TODO:</h1>\n",
    "<ul>\n",
    "    <li><h3>Reconfigure categories for macro_df</h3></li>\n",
    "    <li><h3>Reconfigure categories for dropped_df</h3></li>\n",
    "    <li><h3>Investigate density clusters identified by kde mapping</h3></li>\n",
    "</ul>"
   ]
  },
  {
   "cell_type": "markdown",
   "metadata": {},
   "source": [
    "<hr />"
   ]
  },
  {
   "cell_type": "markdown",
   "metadata": {},
   "source": [
    "# Explore and Merge Cast Ratings Data"
   ]
  },
  {
   "cell_type": "code",
   "execution_count": null,
   "metadata": {},
   "outputs": [],
   "source": [
    "cast_df = pd.read_excel('../../data/CAST_LIST-firstHalf.xlsx', engine='openpyxl').drop_duplicates(ignore_index=True).replace(\n",
    "    '\\\\N',\n",
    "    ''\n",
    ").dropna( \n",
    ").astype({\n",
    "    'actor': 'str',\n",
    "    'nconst': 'str',\n",
    "    'rating': 'int32',\n",
    "    'ratingChange': 'int32'\n",
    "})\n",
    "\n",
    "# Make the actor column lowercase\n",
    "cast_df['actor'] = cast_df['actor'].str.lower()\n",
    "\n",
    "# Check data types and memory usage\n",
    "cast_df.info(memory_usage='deep')"
   ]
  },
  {
   "cell_type": "code",
   "execution_count": null,
   "metadata": {},
   "outputs": [],
   "source": [
    "cast_df['ratingChange'].plot(\n",
    "    kind='box',\n",
    "    figsize=(12, 8),\n",
    "    title='Rating and Rating Change Boxplot'\n",
    ");"
   ]
  },
  {
   "cell_type": "code",
   "execution_count": null,
   "metadata": {},
   "outputs": [],
   "source": [
    "import matplotlib.pyplot as plt\n",
    "import seaborn as sns\n",
    "\n",
    "fig, ax = plt.subplots(1, 1)\n",
    "\n",
    "# Create a histogram\n",
    "sns.histplot(\n",
    "    data=cast_df,\n",
    "    x='rating',\n",
    "    kde=True,\n",
    "    bins=20,\n",
    "    color='skyblue',\n",
    "    alpha=0.8,\n",
    "    ax=ax\n",
    ")\n",
    "\n",
    "sns.histplot(\n",
    "    data=cast_df,\n",
    "    x='ratingChange',\n",
    "    kde=True,\n",
    "    bins=20,\n",
    "    color='red',\n",
    "    alpha=0.8,\n",
    "    ax=ax\n",
    ")\n",
    "\n",
    "# Set the title and labels\n",
    "ax.set_title('Rating and Rating Change Distribution')\n",
    "ax.set_xlabel('Rating and Rating Change')\n",
    "ax.set_ylabel('Frequency')\n",
    "\n",
    "plt.show();"
   ]
  },
  {
   "cell_type": "code",
   "execution_count": null,
   "metadata": {},
   "outputs": [],
   "source": [
    "plt.plot(\n",
    "    df.loc[(df['type'] == 'movie') & (df['runtimeMinutes'] <= 120)][['runtimeMinutes',\n",
    "        'numVotes']]\n",
    ")\n",
    "\n",
    "# Set the title and labels\n",
    "plt.title('Runtime vs. Number of Votes')\n",
    "plt.xlabel('Runtime')\n",
    "plt.ylabel('Number of Votes')\n",
    "\n",
    "plt.show();"
   ]
  },
  {
   "cell_type": "code",
   "execution_count": null,
   "metadata": {},
   "outputs": [],
   "source": [
    "top5Directors = df.director.value_counts().head(5).index.to_list()\n",
    "\n",
    "director_df = df.loc[df.director.isin(top5Directors), :].copy().astype({'director': 'category'})\n",
    "\n",
    "director_df.loc[df.runtimeMinutes <= 120, :].plot(\n",
    "    kind='scatter',\n",
    "    x='runtimeMinutes',\n",
    "    y='numVotes',\n",
    "    alpha=0.8,\n",
    "    c='director',\n",
    "    cmap='viridis',\n",
    "    figsize=(12, 8),\n",
    "    title='Runtime vs. Number of Votes'\n",
    ")\n",
    "\n",
    "plt.show();"
   ]
  },
  {
   "cell_type": "code",
   "execution_count": null,
   "metadata": {},
   "outputs": [],
   "source": [
    "pltdf = df.astype({'type': 'category'}).copy()\n",
    "\n",
    "pltdf.plot(\n",
    "    kind='scatter',\n",
    "    x='runtimeMinutes',\n",
    "    y='numVotes',\n",
    "    alpha=0.8,\n",
    "    c='type',\n",
    "    cmap='viridis',\n",
    "    figsize=(12, 8),\n",
    "    title='Number of Votes vs. Average Rating'\n",
    ")\n",
    "\n",
    "plt.show();"
   ]
  },
  {
   "cell_type": "code",
   "execution_count": 2,
   "metadata": {},
   "outputs": [
    {
     "ename": "ModuleNotFoundError",
     "evalue": "No module named 'sklearn'",
     "output_type": "error",
     "traceback": [
      "\u001b[1;31m---------------------------------------------------------------------------\u001b[0m",
      "\u001b[1;31mModuleNotFoundError\u001b[0m                       Traceback (most recent call last)",
      "Cell \u001b[1;32mIn[2], line 1\u001b[0m\n\u001b[1;32m----> 1\u001b[0m \u001b[38;5;28;01mfrom\u001b[39;00m \u001b[38;5;21;01msklearn\u001b[39;00m\u001b[38;5;21;01m.\u001b[39;00m\u001b[38;5;21;01mdecomposition\u001b[39;00m \u001b[38;5;28;01mimport\u001b[39;00m PCA\n\u001b[0;32m      3\u001b[0m \u001b[38;5;66;03m# Create a PCA model\u001b[39;00m\n\u001b[0;32m      4\u001b[0m pca \u001b[38;5;241m=\u001b[39m PCA()\n",
      "\u001b[1;31mModuleNotFoundError\u001b[0m: No module named 'sklearn'"
     ]
    }
   ],
   "source": [
    "from sklearn.decomposition import PCA\n",
    "\n",
    "# Create a PCA model\n",
    "pca = PCA()\n",
    "\n",
    "# Fit the model\n",
    "pca.fit(df)"
   ]
  },
  {
   "cell_type": "code",
   "execution_count": 5,
   "metadata": {},
   "outputs": [
    {
     "ename": "ModuleNotFoundError",
     "evalue": "No module named 'sklearn'",
     "output_type": "error",
     "traceback": [
      "\u001b[1;31m---------------------------------------------------------------------------\u001b[0m",
      "\u001b[1;31mModuleNotFoundError\u001b[0m                       Traceback (most recent call last)",
      "Cell \u001b[1;32mIn[5], line 1\u001b[0m\n\u001b[1;32m----> 1\u001b[0m \u001b[38;5;28;01mfrom\u001b[39;00m \u001b[38;5;21;01msklearn\u001b[39;00m \u001b[38;5;28;01mimport\u001b[39;00m \u001b[38;5;241m*\u001b[39m\n",
      "\u001b[1;31mModuleNotFoundError\u001b[0m: No module named 'sklearn'"
     ]
    }
   ],
   "source": [
    "from sklearn import *"
   ]
  },
  {
   "cell_type": "code",
   "execution_count": null,
   "metadata": {},
   "outputs": [],
   "source": []
  }
 ],
 "metadata": {
  "kernelspec": {
   "display_name": "Python 3 (ipykernel)",
   "language": "python",
   "name": "python3"
  },
  "language_info": {
   "codemirror_mode": {
    "name": "ipython",
    "version": 3
   },
   "file_extension": ".py",
   "mimetype": "text/x-python",
   "name": "python",
   "nbconvert_exporter": "python",
   "pygments_lexer": "ipython3",
   "version": "undefined.undefined.undefined"
  }
 },
 "nbformat": 4,
 "nbformat_minor": 4
}
